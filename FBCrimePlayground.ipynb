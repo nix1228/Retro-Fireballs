{
 "cells": [
  {
   "cell_type": "code",
   "execution_count": 1,
   "metadata": {
    "collapsed": true
   },
   "outputs": [],
   "source": [
    "import requests\n",
    "import json\n",
    "from naisho import govt"
   ]
  },
  {
   "cell_type": "code",
   "execution_count": 19,
   "metadata": {},
   "outputs": [],
   "source": [
    "url = \"https://api.usa.gov/crime/fbi/ucr/\"\n",
    "api_key = f\"&api_key={govt}\"\n",
    "query = \"estimates/national?\""
   ]
  },
  {
   "cell_type": "code",
   "execution_count": 20,
   "metadata": {
    "collapsed": true
   },
   "outputs": [],
   "source": [
    "data = requests.get(f\"{url}{query}&api_key={govt}\").json()"
   ]
  },
  {
   "cell_type": "code",
   "execution_count": 22,
   "metadata": {},
   "outputs": [
    {
     "data": {
      "text/plain": [
       "{'pagination': {'count': 22, 'page': 1, 'pages': 3, 'per_page': 10},\n",
       " 'results': [{'aggravated_assault': 1099207,\n",
       "   'burglary': 2593784,\n",
       "   'caveats': None,\n",
       "   'homicide': 21606,\n",
       "   'larceny': 7997710,\n",
       "   'motor_vehicle_theft': 1472441,\n",
       "   'population': 262803276,\n",
       "   'property_crime': 12063935,\n",
       "   'rape_legacy': 97470,\n",
       "   'rape_revised': None,\n",
       "   'robbery': 580509,\n",
       "   'violent_crime': 1798792,\n",
       "   'year': 1995},\n",
       "  {'aggravated_assault': 1037049,\n",
       "   'burglary': 2506400,\n",
       "   'caveats': None,\n",
       "   'homicide': 19645,\n",
       "   'larceny': 7904685,\n",
       "   'motor_vehicle_theft': 1394238,\n",
       "   'population': 265228572,\n",
       "   'property_crime': 11805323,\n",
       "   'rape_legacy': 96252,\n",
       "   'rape_revised': None,\n",
       "   'robbery': 535594,\n",
       "   'violent_crime': 1688540,\n",
       "   'year': 1996},\n",
       "  {'aggravated_assault': 1023201,\n",
       "   'burglary': 2461026,\n",
       "   'caveats': None,\n",
       "   'homicide': 18211,\n",
       "   'larceny': 7743760,\n",
       "   'motor_vehicle_theft': 1354189,\n",
       "   'population': 267783607,\n",
       "   'property_crime': 11558975,\n",
       "   'rape_legacy': 96153,\n",
       "   'rape_revised': None,\n",
       "   'robbery': 498534,\n",
       "   'violent_crime': 1636099,\n",
       "   'year': 1997},\n",
       "  {'aggravated_assault': 976583,\n",
       "   'burglary': 2332735,\n",
       "   'caveats': None,\n",
       "   'homicide': 16974,\n",
       "   'larceny': 7376311,\n",
       "   'motor_vehicle_theft': 1242781,\n",
       "   'population': 270248003,\n",
       "   'property_crime': 10951827,\n",
       "   'rape_legacy': 93144,\n",
       "   'rape_revised': None,\n",
       "   'robbery': 447186,\n",
       "   'violent_crime': 1533887,\n",
       "   'year': 1998},\n",
       "  {'aggravated_assault': 911740,\n",
       "   'burglary': 2100739,\n",
       "   'caveats': None,\n",
       "   'homicide': 15522,\n",
       "   'larceny': 6955520,\n",
       "   'motor_vehicle_theft': 1152075,\n",
       "   'population': 272690813,\n",
       "   'property_crime': 10208334,\n",
       "   'rape_legacy': 89411,\n",
       "   'rape_revised': None,\n",
       "   'robbery': 409371,\n",
       "   'violent_crime': 1426044,\n",
       "   'year': 1999},\n",
       "  {'aggravated_assault': 911706,\n",
       "   'burglary': 2050992,\n",
       "   'caveats': None,\n",
       "   'homicide': 15586,\n",
       "   'larceny': 6971590,\n",
       "   'motor_vehicle_theft': 1160002,\n",
       "   'population': 281421906,\n",
       "   'property_crime': 10182584,\n",
       "   'rape_legacy': 90178,\n",
       "   'rape_revised': None,\n",
       "   'robbery': 408016,\n",
       "   'violent_crime': 1425486,\n",
       "   'year': 2000},\n",
       "  {'aggravated_assault': 909023,\n",
       "   'burglary': 2116531,\n",
       "   'caveats': 'The murder and nonnegligent homicides that occurred as a result of the events of September 11, 2001, are not included in this table.',\n",
       "   'homicide': 16037,\n",
       "   'larceny': 7092267,\n",
       "   'motor_vehicle_theft': 1228391,\n",
       "   'population': 285317559,\n",
       "   'property_crime': 10437189,\n",
       "   'rape_legacy': 90863,\n",
       "   'rape_revised': None,\n",
       "   'robbery': 423557,\n",
       "   'violent_crime': 1439480,\n",
       "   'year': 2001},\n",
       "  {'aggravated_assault': 891407,\n",
       "   'burglary': 2151252,\n",
       "   'caveats': None,\n",
       "   'homicide': 16229,\n",
       "   'larceny': 7057379,\n",
       "   'motor_vehicle_theft': 1246646,\n",
       "   'population': 287973924,\n",
       "   'property_crime': 10455277,\n",
       "   'rape_legacy': 95235,\n",
       "   'rape_revised': None,\n",
       "   'robbery': 420806,\n",
       "   'violent_crime': 1423677,\n",
       "   'year': 2002},\n",
       "  {'aggravated_assault': 859030,\n",
       "   'burglary': 2154834,\n",
       "   'caveats': None,\n",
       "   'homicide': 16528,\n",
       "   'larceny': 7026802,\n",
       "   'motor_vehicle_theft': 1261226,\n",
       "   'population': 290788976,\n",
       "   'property_crime': 10442862,\n",
       "   'rape_legacy': 93883,\n",
       "   'rape_revised': None,\n",
       "   'robbery': 414235,\n",
       "   'violent_crime': 1383676,\n",
       "   'year': 2003},\n",
       "  {'aggravated_assault': 847381,\n",
       "   'burglary': 2144446,\n",
       "   'caveats': None,\n",
       "   'homicide': 16148,\n",
       "   'larceny': 6937089,\n",
       "   'motor_vehicle_theft': 1237851,\n",
       "   'population': 293656842,\n",
       "   'property_crime': 10319386,\n",
       "   'rape_legacy': 95089,\n",
       "   'rape_revised': None,\n",
       "   'robbery': 401470,\n",
       "   'violent_crime': 1360088,\n",
       "   'year': 2004}]}"
      ]
     },
     "execution_count": 22,
     "metadata": {},
     "output_type": "execute_result"
    }
   ],
   "source": [
    "data"
   ]
  },
  {
   "cell_type": "code",
   "execution_count": 11,
   "metadata": {},
   "outputs": [
    {
     "data": {
      "text/plain": [
       "'rWvdVj6zur6MspL9ABQrXRjrkRQH34GWBjvMUC4y'"
      ]
     },
     "execution_count": 11,
     "metadata": {},
     "output_type": "execute_result"
    }
   ],
   "source": []
  },
  {
   "cell_type": "code",
   "execution_count": null,
   "metadata": {
    "collapsed": true
   },
   "outputs": [],
   "source": []
  }
 ],
 "metadata": {
  "kernelspec": {
   "display_name": "Python [conda env:PythonData]",
   "language": "python",
   "name": "conda-env-PythonData-py"
  },
  "language_info": {
   "codemirror_mode": {
    "name": "ipython",
    "version": 3
   },
   "file_extension": ".py",
   "mimetype": "text/x-python",
   "name": "python",
   "nbconvert_exporter": "python",
   "pygments_lexer": "ipython3",
   "version": "3.6.3"
  }
 },
 "nbformat": 4,
 "nbformat_minor": 2
}
