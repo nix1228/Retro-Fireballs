{
 "cells": [
  {
   "cell_type": "code",
   "execution_count": 56,
   "metadata": {
    "collapsed": true
   },
   "outputs": [],
   "source": [
    "# Dependencies\n",
    "\n",
    "import pandas as pd\n",
    "import numpy as np\n",
    "import matplotlib.pyplot as plt\n",
    "import json\n",
    "from pprint import pprint\n",
    "from vaderSentiment.vaderSentiment import SentimentIntensityAnalyzer\n",
    "analyzer = SentimentIntensityAnalyzer()"
   ]
  },
  {
   "cell_type": "code",
   "execution_count": 19,
   "metadata": {},
   "outputs": [],
   "source": [
    "# Read the file\n",
    "\n",
    "filename = \"Raw_Data/season1.json\"\n",
    "with open(filename, \"r\") as data_file:\n",
    "    data = json.load(data_file)"
   ]
  },
  {
   "cell_type": "code",
   "execution_count": 50,
   "metadata": {},
   "outputs": [],
   "source": [
    "# Extract files and set up\n",
    "\n",
    "season1 = {}\n",
    "counter = 1\n",
    "lines = []\n",
    "for x in data.keys():\n",
    "    for key, line in data[x].items():\n",
    "        lines.append(line)\n",
    "    season1[f\"Ep{counter}\"] = lines\n",
    "    counter += 1\n",
    "    lines = []"
   ]
  },
  {
   "cell_type": "code",
   "execution_count": 89,
   "metadata": {},
   "outputs": [],
   "source": [
    "# Run VADER on each episode, ignore sentiment score of 0 lines\n",
    "\n",
    "sentiments = {}\n",
    "sentiment_list = []\n",
    "for episode in season1:\n",
    "    for line in season1[episode]:\n",
    "        results = analyzer.polarity_scores(line)\n",
    "        \n",
    "        # Only add non-zero results\n",
    "        if results[\"compound\"] != 0:\n",
    "            sentiment_list.append(results)\n",
    "    sentiments[episode] = sentiment_list\n",
    "    sentiment_list = []"
   ]
  },
  {
   "cell_type": "code",
   "execution_count": 90,
   "metadata": {},
   "outputs": [],
   "source": [
    "# Each ep its own dataframe\n",
    "\n",
    "ep1_df = pd.DataFrame(sentiments[\"Ep1\"])\n",
    "ep2_df = pd.DataFrame(sentiments[\"Ep2\"])\n",
    "ep3_df = pd.DataFrame(sentiments[\"Ep3\"])\n",
    "ep4_df = pd.DataFrame(sentiments[\"Ep4\"])\n",
    "ep5_df = pd.DataFrame(sentiments[\"Ep5\"])\n",
    "ep6_df = pd.DataFrame(sentiments[\"Ep6\"])\n",
    "ep7_df = pd.DataFrame(sentiments[\"Ep7\"])\n",
    "ep8_df = pd.DataFrame(sentiments[\"Ep8\"])\n",
    "ep9_df = pd.DataFrame(sentiments[\"Ep9\"])\n",
    "ep10_df = pd.DataFrame(sentiments[\"Ep10\"])"
   ]
  },
  {
   "cell_type": "code",
   "execution_count": 91,
   "metadata": {},
   "outputs": [
    {
     "data": {
      "text/html": [
       "<div>\n",
       "<style>\n",
       "    .dataframe thead tr:only-child th {\n",
       "        text-align: right;\n",
       "    }\n",
       "\n",
       "    .dataframe thead th {\n",
       "        text-align: left;\n",
       "    }\n",
       "\n",
       "    .dataframe tbody tr th {\n",
       "        vertical-align: top;\n",
       "    }\n",
       "</style>\n",
       "<table border=\"1\" class=\"dataframe\">\n",
       "  <thead>\n",
       "    <tr style=\"text-align: right;\">\n",
       "      <th></th>\n",
       "      <th>E1</th>\n",
       "      <th>E10</th>\n",
       "      <th>E2</th>\n",
       "      <th>E3</th>\n",
       "      <th>E4</th>\n",
       "      <th>E5</th>\n",
       "      <th>E6</th>\n",
       "      <th>E7</th>\n",
       "      <th>E8</th>\n",
       "      <th>E9</th>\n",
       "    </tr>\n",
       "  </thead>\n",
       "  <tbody>\n",
       "    <tr>\n",
       "      <th>Compound Score</th>\n",
       "      <td>0.028246</td>\n",
       "      <td>-0.004266</td>\n",
       "      <td>0.018374</td>\n",
       "      <td>0.007437</td>\n",
       "      <td>0.052766</td>\n",
       "      <td>-0.013251</td>\n",
       "      <td>0.004285</td>\n",
       "      <td>0.001448</td>\n",
       "      <td>0.013776</td>\n",
       "      <td>-0.010975</td>\n",
       "    </tr>\n",
       "  </tbody>\n",
       "</table>\n",
       "</div>"
      ],
      "text/plain": [
       "                      E1       E10        E2        E3        E4        E5  \\\n",
       "Compound Score  0.028246 -0.004266  0.018374  0.007437  0.052766 -0.013251   \n",
       "\n",
       "                      E6        E7        E8        E9  \n",
       "Compound Score  0.004285  0.001448  0.013776 -0.010975  "
      ]
     },
     "execution_count": 91,
     "metadata": {},
     "output_type": "execute_result"
    }
   ],
   "source": [
    "# Make a DF of average values because..?\n",
    "\n",
    "mean_df = pd.DataFrame({\n",
    "    \"E1\": ep1_df[\"compound\"].mean(),\n",
    "    \"E2\": ep2_df[\"compound\"].mean(),\n",
    "    \"E3\": ep3_df[\"compound\"].mean(),\n",
    "    \"E4\": ep4_df[\"compound\"].mean(),\n",
    "    \"E5\": ep5_df[\"compound\"].mean(),\n",
    "    \"E6\": ep6_df[\"compound\"].mean(),\n",
    "    \"E7\": ep7_df[\"compound\"].mean(),\n",
    "    \"E8\": ep8_df[\"compound\"].mean(),\n",
    "    \"E9\": ep9_df[\"compound\"].mean(),\n",
    "    \"E10\": ep10_df[\"compound\"].mean()\n",
    "}, index=[\"Compound Score\"])\n",
    "mean_df"
   ]
  },
  {
   "cell_type": "code",
   "execution_count": null,
   "metadata": {},
   "outputs": [],
   "source": []
  }
 ],
 "metadata": {
  "kernelspec": {
   "display_name": "Python [conda env:PythonData]",
   "language": "python",
   "name": "conda-env-PythonData-py"
  },
  "language_info": {
   "codemirror_mode": {
    "name": "ipython",
    "version": 3
   },
   "file_extension": ".py",
   "mimetype": "text/x-python",
   "name": "python",
   "nbconvert_exporter": "python",
   "pygments_lexer": "ipython3",
   "version": "3.6.3"
  }
 },
 "nbformat": 4,
 "nbformat_minor": 2
}
