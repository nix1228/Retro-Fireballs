{
 "cells": [
  {
   "cell_type": "code",
   "execution_count": 1,
   "metadata": {
    "collapsed": true
   },
   "outputs": [],
   "source": [
    "import requests\n",
    "import json\n",
    "from pprint import pprint\n",
    "import pandas as pd\n",
    "import numpy as np\n",
    "import matplotlib.pyplot as plt"
   ]
  },
  {
   "cell_type": "code",
   "execution_count": 2,
   "metadata": {
    "collapsed": true
   },
   "outputs": [],
   "source": [
    "def view_imdb_data_votes(season_number,episode_number):\n",
    "    url=\"http://www.omdbapi.com/?t=\"\n",
    "    season=\"&Season=\"+str(season_number)\n",
    "    episode=\"&Episode=\"+str(episode_number)\n",
    "    api_key=\"&apikey=7329004f\"\n",
    "    response=requests.get(url+\"Game of Thrones\" +season+episode+api_key)\n",
    "    data=response.json()\n",
    "    return data[\"imdbVotes\"]"
   ]
  },
  {
   "cell_type": "code",
   "execution_count": 3,
   "metadata": {
    "collapsed": true
   },
   "outputs": [],
   "source": [
    "def view_imdb_data_ratings(season_number,episode_number):\n",
    "    url=\"http://www.omdbapi.com/?t=\"\n",
    "    season=\"&Season=\"+str(season_number)\n",
    "    episode=\"&Episode=\"+str(episode_number)\n",
    "    api_key=\"&apikey=7329004f\"\n",
    "    response=requests.get(url+\"Game of Thrones\" +season+episode+api_key)\n",
    "    data=response.json()\n",
    "    return data[\"imdbRating\"]"
   ]
  },
  {
   "cell_type": "code",
   "execution_count": 4,
   "metadata": {
    "collapsed": true
   },
   "outputs": [],
   "source": [
    "#season_one votes\n",
    "season_one=[]\n",
    "for y in range(11):\n",
    "        try:\n",
    "            season_one.append(view_imdb_data_votes(1,y))\n",
    "        except:\n",
    "                continue\n",
    "    \n",
    "    "
   ]
  },
  {
   "cell_type": "code",
   "execution_count": 5,
   "metadata": {
    "collapsed": true
   },
   "outputs": [],
   "source": [
    "season_one\n",
    "for i in range(len(season_one)):\n",
    "    season_one[i]=int(season_one[i])"
   ]
  },
  {
   "cell_type": "code",
   "execution_count": 6,
   "metadata": {
    "collapsed": true
   },
   "outputs": [],
   "source": [
    "#season_two\n",
    "season_two=[]\n",
    "for y in range(11):\n",
    "        try:\n",
    "            season_two.append(view_imdb_data_votes(2,y))\n",
    "        except:\n",
    "                continue\n",
    "    "
   ]
  },
  {
   "cell_type": "code",
   "execution_count": 7,
   "metadata": {
    "collapsed": true
   },
   "outputs": [],
   "source": [
    "season_two\n",
    "for i in range(len(season_two)):\n",
    "    season_two[i]=int(season_two[i])"
   ]
  },
  {
   "cell_type": "code",
   "execution_count": 8,
   "metadata": {
    "collapsed": true
   },
   "outputs": [],
   "source": [
    "#season_three\n",
    "season_three=[]\n",
    "for y in range(11):\n",
    "    try:\n",
    "        season_three.append(view_imdb_data_votes(3,y))\n",
    "    except:\n",
    "        continue"
   ]
  },
  {
   "cell_type": "code",
   "execution_count": 9,
   "metadata": {
    "collapsed": true
   },
   "outputs": [],
   "source": [
    "season_three\n",
    "for i in range(len(season_three)):\n",
    "    season_three[i]=int(season_three[i])"
   ]
  },
  {
   "cell_type": "code",
   "execution_count": 10,
   "metadata": {
    "collapsed": true
   },
   "outputs": [],
   "source": [
    "#season_four\n",
    "season_four=[]\n",
    "for y in range(11):\n",
    "    try:\n",
    "        season_four.append(view_imdb_data_votes(4,y))\n",
    "    except:\n",
    "        continue"
   ]
  },
  {
   "cell_type": "code",
   "execution_count": 11,
   "metadata": {
    "collapsed": true
   },
   "outputs": [],
   "source": [
    "season_four\n",
    "for i in range(len(season_four)):\n",
    "    season_four[i]=int(season_four[i])"
   ]
  },
  {
   "cell_type": "code",
   "execution_count": 12,
   "metadata": {
    "collapsed": true
   },
   "outputs": [],
   "source": [
    "#season_five\n",
    "season_five=[]\n",
    "for y in range(11):\n",
    "    try:\n",
    "        season_five.append(view_imdb_data_votes(5,y))\n",
    "    except:\n",
    "        continue"
   ]
  },
  {
   "cell_type": "code",
   "execution_count": 13,
   "metadata": {
    "collapsed": true
   },
   "outputs": [],
   "source": [
    "season_five\n",
    "for i in range(len(season_five)):\n",
    "    season_five[i]=int(season_five[i])"
   ]
  },
  {
   "cell_type": "code",
   "execution_count": 14,
   "metadata": {
    "collapsed": true
   },
   "outputs": [],
   "source": [
    "#season 6\n",
    "season_six=[]\n",
    "for y in range(11):\n",
    "    try:\n",
    "        season_six.append(view_imdb_data_votes(6,y))\n",
    "    except:\n",
    "        continue"
   ]
  },
  {
   "cell_type": "code",
   "execution_count": 15,
   "metadata": {
    "collapsed": true
   },
   "outputs": [],
   "source": [
    "season_six\n",
    "for i in range(len(season_six)):\n",
    "    season_six[i]=int(season_six[i])"
   ]
  },
  {
   "cell_type": "code",
   "execution_count": 16,
   "metadata": {
    "collapsed": true
   },
   "outputs": [],
   "source": [
    "#season 7\n",
    "season_seven=[]\n",
    "for y in range(8):\n",
    "        try:\n",
    "            season_seven.append(view_imdb_data_votes(7,y))\n",
    "        except:\n",
    "            continue"
   ]
  },
  {
   "cell_type": "code",
   "execution_count": 17,
   "metadata": {
    "collapsed": true
   },
   "outputs": [],
   "source": [
    "for i in range(len(season_seven)):\n",
    "    season_seven[i]=int(season_seven[i])"
   ]
  },
  {
   "cell_type": "code",
   "execution_count": 18,
   "metadata": {
    "collapsed": true
   },
   "outputs": [],
   "source": [
    "votes_df=pd.DataFrame({\"Season 1\":season_one,\n",
    "                        \"Season 2\":season_two,\n",
    "                         \"Season 3\":season_three,\n",
    "                          \"Season 4\":season_four,\n",
    "                          \"Season 5\":season_five,\n",
    "                          \"Season 6\":season_six,\n",
    "                          })"
   ]
  },
  {
   "cell_type": "code",
   "execution_count": 19,
   "metadata": {},
   "outputs": [],
   "source": [
    "votes_df_season_seven=pd.DataFrame({\"Season 7\":season_seven})"
   ]
  },
  {
   "cell_type": "code",
   "execution_count": 20,
   "metadata": {
    "collapsed": true
   },
   "outputs": [],
   "source": [
    "#now for the ratings\n",
    "season_one_ratings=[]\n",
    "for y in range(11):\n",
    "        try:\n",
    "            season_one_ratings.append(view_imdb_data_ratings(1,y))\n",
    "        except:\n",
    "            continue"
   ]
  },
  {
   "cell_type": "code",
   "execution_count": 21,
   "metadata": {
    "collapsed": true
   },
   "outputs": [],
   "source": [
    "season_one_ratings\n",
    "for i in range(len(season_one_ratings)):\n",
    "    season_one_ratings[i]=float(season_one_ratings[i])"
   ]
  },
  {
   "cell_type": "code",
   "execution_count": 22,
   "metadata": {
    "collapsed": true
   },
   "outputs": [],
   "source": [
    "season_two_ratings=[]\n",
    "for y in range(11):\n",
    "    try:\n",
    "        season_two_ratings.append(view_imdb_data_ratings(2,y))\n",
    "    except:\n",
    "        continue"
   ]
  },
  {
   "cell_type": "code",
   "execution_count": 23,
   "metadata": {
    "collapsed": true
   },
   "outputs": [],
   "source": [
    "season_two_ratings\n",
    "for i in range(len(season_two_ratings)):\n",
    "    season_two_ratings[i]=float(season_two_ratings[i])"
   ]
  },
  {
   "cell_type": "code",
   "execution_count": 24,
   "metadata": {
    "collapsed": true
   },
   "outputs": [],
   "source": [
    "season_three_ratings=[]\n",
    "for y in range(11):\n",
    "    try:\n",
    "        season_three_ratings.append(view_imdb_data_ratings(3,y))\n",
    "    except:\n",
    "        continue"
   ]
  },
  {
   "cell_type": "code",
   "execution_count": 25,
   "metadata": {
    "collapsed": true
   },
   "outputs": [],
   "source": [
    "season_three_ratings\n",
    "for i in range(len(season_three_ratings)):\n",
    "    season_three_ratings[i]=float(season_three_ratings[i])"
   ]
  },
  {
   "cell_type": "code",
   "execution_count": 26,
   "metadata": {
    "collapsed": true
   },
   "outputs": [],
   "source": [
    "season_four_ratings=[]\n",
    "for y in range(11):\n",
    "    try:\n",
    "        season_four_ratings.append(view_imdb_data_ratings(4,y))\n",
    "    except:\n",
    "        continue"
   ]
  },
  {
   "cell_type": "code",
   "execution_count": 27,
   "metadata": {
    "collapsed": true
   },
   "outputs": [],
   "source": [
    "season_four_ratings\n",
    "for i in range(len(season_four_ratings)):\n",
    "    season_four_ratings[i]=float(season_four_ratings[i])"
   ]
  },
  {
   "cell_type": "code",
   "execution_count": 28,
   "metadata": {
    "collapsed": true
   },
   "outputs": [],
   "source": [
    "season_five_ratings=[]\n",
    "for y in range(11):\n",
    "    try:\n",
    "        season_five_ratings.append(view_imdb_data_ratings(5,y))\n",
    "    except:\n",
    "        continue"
   ]
  },
  {
   "cell_type": "code",
   "execution_count": 29,
   "metadata": {
    "collapsed": true
   },
   "outputs": [],
   "source": [
    "season_five_ratings\n",
    "for i in range(len(season_five_ratings)):\n",
    "    season_five_ratings[i]=float(season_five_ratings[i])"
   ]
  },
  {
   "cell_type": "code",
   "execution_count": 30,
   "metadata": {
    "collapsed": true
   },
   "outputs": [],
   "source": [
    "season_six_ratings=[]\n",
    "for y in range(11):\n",
    "    try:\n",
    "        season_six_ratings.append(view_imdb_data_ratings(6,y))\n",
    "    except:\n",
    "        continue"
   ]
  },
  {
   "cell_type": "code",
   "execution_count": 31,
   "metadata": {
    "collapsed": true
   },
   "outputs": [],
   "source": [
    "season_six_ratings\n",
    "for i in range(len(season_six_ratings)):\n",
    "    season_six_ratings[i]=float(season_six_ratings[i])"
   ]
  },
  {
   "cell_type": "code",
   "execution_count": 32,
   "metadata": {
    "collapsed": true
   },
   "outputs": [],
   "source": [
    "season_seven_ratings=[]\n",
    "for y in range(8): \n",
    "    try:\n",
    "        season_seven_ratings.append(view_imdb_data_ratings(7,y))\n",
    "    except:\n",
    "        continue\n",
    "    "
   ]
  },
  {
   "cell_type": "code",
   "execution_count": 33,
   "metadata": {
    "collapsed": true
   },
   "outputs": [],
   "source": [
    "for i in range(len(season_seven_ratings)):\n",
    "    season_seven_ratings[i]=float(season_seven_ratings[i])"
   ]
  },
  {
   "cell_type": "code",
   "execution_count": 34,
   "metadata": {
    "collapsed": true
   },
   "outputs": [],
   "source": [
    "ratings_df=pd.DataFrame({\"Season 1\":season_one_ratings,\n",
    "                         \"Season 2\":season_two_ratings,\n",
    "                          \"Season 3\":season_three_ratings,\n",
    "                          \"Season 4\":season_four_ratings,\n",
    "                          \"Season 5\":season_five_ratings,\n",
    "                          \"Season 6\":season_six_ratings,\n",
    "                           })"
   ]
  },
  {
   "cell_type": "code",
   "execution_count": 35,
   "metadata": {},
   "outputs": [],
   "source": [
    "ratings_season_seven_df=pd.DataFrame({\"Season 7\":season_seven_ratings})"
   ]
  },
  {
   "cell_type": "code",
   "execution_count": 36,
   "metadata": {},
   "outputs": [
    {
     "data": {
      "image/png": "[encoded data removed]",
      "text/plain": [
       "<Figure size 432x288 with 1 Axes>"
      ]
     },
     "metadata": {},
     "output_type": "display_data"
    }
   ],
   "source": [
    "x_axis=[\"Ep.1\",\"Ep.2\",\"Ep.3\",\"Ep.4\",\"Ep.5\",\"Ep.6\",\"Ep.7\",\"Ep.8\",\"Ep.9\",\"Ep.10\"]\n",
    "y_axis=ratings_df[\"Season 1\"]\n",
    "plt.plot(x_axis,y_axis, label=\"Season 1\",color=\"black\")\n",
    "y_axis=ratings_df[\"Season 2\"]\n",
    "plt.plot(x_axis,y_axis, label=\"Season 2\", color=\"lightcoral\")\n",
    "y_axis=ratings_df[\"Season 3\"]\n",
    "plt.plot(x_axis,y_axis, label=\"Season 3\", color=\"lightskyblue\")\n",
    "y_axis=ratings_df[\"Season 4\"]\n",
    "plt.plot(x_axis,y_axis, label=\"Season 4\", color=\"red\")\n",
    "y_axis=ratings_df[\"Season 5\"]\n",
    "plt.plot(x_axis,y_axis, label=\"Season 5\", color=\"darkblue\")\n",
    "y_axis=ratings_df[\"Season 6\"]\n",
    "plt.plot(x_axis,y_axis, label=\"Season 6\", color=\"green\")\n",
    "x_axis=[\"Ep.1\",\"Ep.2\",\"Ep.3\",\"Ep.4\",\"Ep.5\",\"Ep.6\",\"Ep.7\"]\n",
    "y_axis=ratings_season_seven_df\n",
    "plt.plot(x_axis,y_axis, label=\"Season 7\", color=\"orange\")\n",
    "plt.legend(loc=\"best\")\n",
    "plt.title(\"Ratings Per Episode in Each Season\")\n",
    "plt.xlabel(\"Episode\")\n",
    "plt.ylabel(\"Rating Score\")\n",
    "plt.show()"
   ]
  },
  {
   "cell_type": "code",
   "execution_count": 37,
   "metadata": {},
   "outputs": [
    {
     "data": {
      "image/png": "[encoded data removed]",
      "text/plain": [
       "<Figure size 432x288 with 1 Axes>"
      ]
     },
     "metadata": {},
     "output_type": "display_data"
    }
   ],
   "source": [
    "x_axis=[\"Ep.1\",\"Ep.2\",\"Ep.3\",\"Ep.4\",\"Ep.5\",\"Ep.6\",\"Ep.7\",\"Ep.8\",\"Ep.9\",\"Ep.10\"]\n",
    "y_axis=votes_df[\"Season 1\"]\n",
    "plt.plot(x_axis,y_axis, label=\"Season 1\",color=\"black\")\n",
    "y_axis=votes_df[\"Season 2\"]\n",
    "plt.plot(x_axis,y_axis, label=\"Season 2\",color=\"lightcoral\")\n",
    "y_axis=votes_df[\"Season 3\"]\n",
    "plt.plot(x_axis,y_axis, label=\"Season 3\",color=\"lightskyblue\")\n",
    "y_axis=votes_df[\"Season 4\"]\n",
    "plt.plot(x_axis,y_axis, label=\"Season 4\",color=\"red\")\n",
    "y_axis=votes_df[\"Season 5\"]\n",
    "plt.plot(x_axis,y_axis, label=\"Season 5\",color=\"purple\")\n",
    "y_axis=votes_df[\"Season 6\"]\n",
    "plt.plot(x_axis,y_axis, label=\"Season 6\",color=\"green\")\n",
    "x_axis=[\"Ep.1\",\"Ep.2\",\"Ep.3\",\"Ep.4\",\"Ep.5\",\"Ep.6\",\"Ep.7\"]\n",
    "y_axis=votes_df_season_seven\n",
    "plt.plot(x_axis,y_axis, label=\"Season 7\",color=\"darkblue\")\n",
    "plt.title(\"IMdB votes per Episode by Season\")\n",
    "plt.xlabel(\"Episode Number\")\n",
    "plt.ylabel(\"Number of Votes Per Episode \")\n",
    "plt.plot(x_axis,y_axis)\n",
    "plt.legend()\n",
    "plt.show()"
   ]
  },
  {
   "cell_type": "code",
   "execution_count": 57,
   "metadata": {},
   "outputs": [],
   "source": [
    "avg_rating_season_one=ratings_df[\"Season 1\"].mean()\n",
    "avg_rating_season_two=ratings_df[\"Season 2\"].mean()\n",
    "avg_rating_season_three=ratings_df[\"Season 3\"].mean()\n",
    "avg_rating_season_four=ratings_df[\"Season 4\"].mean()\n",
    "avg_rating_season_five=ratings_df[\"Season 5\"].mean()\n",
    "avg_rating_season_six=ratings_df[\"Season 6\"].mean()\n",
    "avg_rating_season_seven=ratings_season_seven_df.mean()"
   ]
  },
  {
   "cell_type": "code",
   "execution_count": 58,
   "metadata": {},
   "outputs": [
    {
     "data": {
      "image/png": "[encoded data removed]",
      "text/plain": [
       "<Figure size 432x288 with 1 Axes>"
      ]
     },
     "metadata": {},
     "output_type": "display_data"
    }
   ],
   "source": [
    "x_axis=[\"Season 1\"]\n",
    "y_axis=avg_rating_season_one\n",
    "plt.bar(x_axis,y_axis)\n",
    "x_axis=[\"Season 2\"]\n",
    "y_axis=avg_rating_season_two\n",
    "plt.bar(x_axis,y_axis)\n",
    "x_axis=[\"Season 3\"]\n",
    "y_axis=avg_rating_season_three\n",
    "plt.bar(x_axis,y_axis)\n",
    "x_axis=[\"Season 4\"]\n",
    "y_axis=avg_rating_season_four\n",
    "plt.bar(x_axis,y_axis)\n",
    "x_axis=[\"Season 5\"]\n",
    "y_axis=avg_rating_season_five\n",
    "plt.bar(x_axis,y_axis)\n",
    "x_axis=[\"Season 6\"]\n",
    "y_axis=avg_rating_season_six\n",
    "plt.bar(x_axis,y_axis)\n",
    "x_axis=[\"Season 7\"]\n",
    "y_axis=avg_rating_season_seven\n",
    "plt.bar(x_axis,y_axis)\n",
    "plt.ylim(6.0,10.0)\n",
    "plt.title(\"Average Ratings Per Season\")\n",
    "plt.xlabel(\"Season\")\n",
    "plt.ylabel(\"Average Rating\")\n",
    "plt.xticks(rotation=45)\n",
    "plt.show()"
   ]
  },
  {
   "cell_type": "code",
   "execution_count": 55,
   "metadata": {},
   "outputs": [],
   "source": [
    "avg_votes_season_one=votes_df[\"Season 1\"].mean()\n",
    "avg_votes_season_two=votes_df[\"Season 2\"].mean()\n",
    "avg_votes_season_three=votes_df[\"Season 3\"].mean()\n",
    "avg_votes_season_four=votes_df[\"Season 4\"].mean()\n",
    "avg_votes_season_five=votes_df[\"Season 5\"].mean()\n",
    "avg_votes_season_six=votes_df[\"Season 6\"].mean()\n",
    "avg_votes_season_seven=votes_df_season_seven.mean()"
   ]
  },
  {
   "cell_type": "code",
   "execution_count": 56,
   "metadata": {},
   "outputs": [
    {
     "data": {
      "image/png": "[encoded data removed]",
      "text/plain": [
       "<Figure size 432x288 with 1 Axes>"
      ]
     },
     "metadata": {},
     "output_type": "display_data"
    }
   ],
   "source": [
    "x_axis=\"Season 1\"\n",
    "y_axis=avg_votes_season_one\n",
    "plt.bar(x_axis,y_axis)\n",
    "x_axis=\"Season 2\"\n",
    "y_axis=avg_votes_season_two\n",
    "plt.bar(x_axis,y_axis)\n",
    "x_axis=\"Season 3\"\n",
    "y_axis=avg_votes_season_three\n",
    "plt.bar(x_axis,y_axis)\n",
    "x_axis=\"Season 4\"\n",
    "y_axis=avg_votes_season_four\n",
    "plt.bar(x_axis,y_axis)\n",
    "x_axis=\"Season 5\"\n",
    "y_axis=avg_votes_season_five\n",
    "plt.bar(x_axis,y_axis)\n",
    "x_axis=\"Season 6\"\n",
    "y_axis=avg_votes_season_six\n",
    "plt.bar(x_axis,y_axis)\n",
    "x_axis=\"Season 7\"\n",
    "y_axis=avg_votes_season_seven\n",
    "plt.bar(x_axis,y_axis)\n",
    "plt.xticks(rotation=45)\n",
    "plt.title(\"Average Votes per Season\")\n",
    "plt.xlabel(\"Season\")\n",
    "plt.ylabel(\"Average Number of Votes\")\n",
    "plt.show()"
   ]
  },
  {
   "cell_type": "code",
   "execution_count": null,
   "metadata": {
    "collapsed": true
   },
   "outputs": [],
   "source": []
  }
 ],
 "metadata": {
  "kernelspec": {
   "display_name": "Python [conda env:PythonData2]",
   "language": "python",
   "name": "conda-env-PythonData2-py"
  },
  "language_info": {
   "codemirror_mode": {
    "name": "ipython",
    "version": 3
   },
   "file_extension": ".py",
   "mimetype": "text/x-python",
   "name": "python",
   "nbconvert_exporter": "python",
   "pygments_lexer": "ipython3",
   "version": "3.6.3"
  }
 },
 "nbformat": 4,
 "nbformat_minor": 2
}
