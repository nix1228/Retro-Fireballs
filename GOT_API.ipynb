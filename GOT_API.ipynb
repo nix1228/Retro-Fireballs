{
 "cells": [
  {
   "cell_type": "code",
   "execution_count": 20,
   "metadata": {
    "collapsed": true
   },
   "outputs": [],
   "source": [
    "# Dependencies\n",
    "import requests\n",
    "import json\n",
    "\n",
    "url = \"https://api.got.show/api/characters/\"\n",
    "\n",
    "loc = \"locations/\"\n",
    "\n",
    "loc_query_url = f\"{url}{loc}\""
   ]
  },
  {
   "cell_type": "code",
   "execution_count": 25,
   "metadata": {
    "scrolled": true
   },
   "outputs": [
    {
     "name": "stdout",
     "output_type": "stream",
     "text": [
      "{\n",
      "    \"data\": {\n",
      "        \"__v\": 0,\n",
      "        \"_id\": \"56ffc5c00432440819385e24\",\n",
      "        \"actor\": \"Stephen Dillane\",\n",
      "        \"books\": [],\n",
      "        \"createdAt\": \"2016-04-02T13:14:40.360Z\",\n",
      "        \"dateOfBirth\": 264,\n",
      "        \"father\": \"Steffon Baratheon\",\n",
      "        \"hasPath\": true,\n",
      "        \"heir\": \"Shireen Baratheon\",\n",
      "        \"house\": \"House Baratheon of Dragonstone\",\n",
      "        \"imageLink\": \"/misc/images/characters/Stannis_Baratheon.jpeg\",\n",
      "        \"male\": true,\n",
      "        \"mother\": \"Cassana Estermont\",\n",
      "        \"name\": \"Stannis Baratheon\",\n",
      "        \"pageRank\": 300,\n",
      "        \"slug\": \"Stannis_Baratheon\",\n",
      "        \"titles\": [],\n",
      "        \"updatedAt\": \"2016-04-02T13:14:40.360Z\"\n",
      "    },\n",
      "    \"message\": \"Success\"\n",
      "}\n"
     ]
    }
   ],
   "source": [
    "# Get character locations\n",
    "\n",
    "# First get a json response of all characters\n",
    "characters = requests.get(f\"{url}stannis%20baratheon\").json()\n",
    "# print(characters[0])\n",
    "print(json.dumps(characters, indent=4, sort_keys=True))\n",
    "# character_list = \n"
   ]
  },
  {
   "cell_type": "code",
   "execution_count": null,
   "metadata": {
    "collapsed": true
   },
   "outputs": [],
   "source": []
  },
  {
   "cell_type": "code",
   "execution_count": null,
   "metadata": {
    "collapsed": true
   },
   "outputs": [],
   "source": []
  }
 ],
 "metadata": {
  "kernelspec": {
   "display_name": "Python [conda env:PythonData]",
   "language": "python",
   "name": "conda-env-PythonData-py"
  },
  "language_info": {
   "codemirror_mode": {
    "name": "ipython",
    "version": 3
   },
   "file_extension": ".py",
   "mimetype": "text/x-python",
   "name": "python",
   "nbconvert_exporter": "python",
   "pygments_lexer": "ipython3",
   "version": "3.6.3"
  }
 },
 "nbformat": 4,
 "nbformat_minor": 2
}
