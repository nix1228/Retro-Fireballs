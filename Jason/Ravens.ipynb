{
 "cells": [
  {
   "cell_type": "code",
   "execution_count": 1,
   "metadata": {
    "collapsed": true
   },
   "outputs": [],
   "source": [
    "import json\n",
    "import pandas as pd\n",
    "# Define keywords\n",
    "keywords = (\"raven\", \"message\")"
   ]
  },
  {
   "cell_type": "code",
   "execution_count": 2,
   "metadata": {
    "collapsed": true
   },
   "outputs": [],
   "source": [
    "# Read in json file for the season\n",
    "filename = 'Raw_Data/season1.json'\n",
    "with open(filename, 'r') as s1:\n",
    "    data = json.load(s1)"
   ]
  },
  {
   "cell_type": "code",
   "execution_count": 3,
   "metadata": {
    "collapsed": true
   },
   "outputs": [],
   "source": [
    "topandas_1 = []\n",
    "eptitles_1 = []\n",
    "\n",
    "for episode in data.keys():\n",
    "    eptitles_1.append(episode[16:-4])\n",
    "    for key, line in data[episode].items():\n",
    "        # Read json file line by line\n",
    "        if any(keyword in line.lower() for keyword in keywords):\n",
    "             topandas_1.append({\n",
    "                \"Episode\": episode[16:-4],\n",
    "                \"Key\": key,\n",
    "                \"Line\": line\n",
    "            })"
   ]
  },
  {
   "cell_type": "code",
   "execution_count": 4,
   "metadata": {
    "collapsed": true
   },
   "outputs": [],
   "source": [
    "df_1 = pd.DataFrame(topandas_1)\n",
    "df_1 = df_1[[\"Episode\", \"Key\", \"Line\"]]\n",
    "# df.head(21)"
   ]
  },
  {
   "cell_type": "code",
   "execution_count": 5,
   "metadata": {
    "collapsed": true
   },
   "outputs": [],
   "source": [
    "# Read in json file for the season\n",
    "\n",
    "filename = 'Raw_Data/season2.json'\n",
    "with open(filename, 'r') as s2:\n",
    "    data = json.load(s2)\n",
    "\n",
    "eptitles_2 = []\n",
    "topandas_2 = []\n",
    "    \n",
    "for episode in data.keys():\n",
    "    eptitles_2.append(episode[16:-4])\n",
    "    for key, line in data[episode].items():\n",
    "        # Read json file line by line\n",
    "        if any(keyword in line.lower() for keyword in keywords):\n",
    "             topandas_2.append({\n",
    "                \"Episode\": episode[16:-4],\n",
    "                \"Key\": key,\n",
    "                \"Line\": line\n",
    "            })\n",
    "df_2 = pd.DataFrame(topandas_2)\n",
    "df_2 = df_2[[\"Episode\", \"Key\", \"Line\"]]\n",
    "# df.head(60)"
   ]
  },
  {
   "cell_type": "code",
   "execution_count": 6,
   "metadata": {
    "collapsed": true
   },
   "outputs": [],
   "source": [
    "# Read in json file for the season\n",
    "filename = 'Raw_Data/season3.json'\n",
    "with open(filename, 'r') as s3:\n",
    "    data = json.load(s3)\n",
    "\n",
    "eptitles_3 = []\n",
    "topandas_3 = []\n",
    "    \n",
    "for episode in data.keys():\n",
    "    eptitles_3.append(episode[16:-4])\n",
    "    for key, line in data[episode].items():\n",
    "        # Read json file line by line\n",
    "        if any(keyword in line.lower() for keyword in keywords):\n",
    "             topandas_3.append({\n",
    "                \"Episode\": episode[16:-4],\n",
    "                \"Key\": key,\n",
    "                \"Line\": line\n",
    "            })\n",
    "df_3 = pd.DataFrame(topandas_3)\n",
    "df_3 = df_3[[\"Episode\", \"Key\", \"Line\"]]\n",
    "# df.head(60)"
   ]
  },
  {
   "cell_type": "code",
   "execution_count": 7,
   "metadata": {
    "collapsed": true
   },
   "outputs": [],
   "source": [
    "# Read in json file for the season\n",
    "filename = 'Raw_Data/season4.json'\n",
    "with open(filename, 'r') as s4:\n",
    "    data = json.load(s4)\n",
    "    \n",
    "eptitles_4 = []\n",
    "topandas_4 = []\n",
    "    \n",
    "for episode in data.keys():\n",
    "    eptitles_4.append(episode[16:-4])\n",
    "    for key, line in data[episode].items():\n",
    "        # Read json file line by line\n",
    "        if any(keyword in line.lower() for keyword in keywords):\n",
    "             topandas_4.append({\n",
    "                \"Episode\": episode[16:-4],\n",
    "                \"Key\": key,\n",
    "                \"Line\": line\n",
    "            })\n",
    "df_4 = pd.DataFrame(topandas_4)\n",
    "df_4 = df_4[[\"Episode\", \"Key\", \"Line\"]]\n",
    "# df.head(60)"
   ]
  },
  {
   "cell_type": "code",
   "execution_count": 8,
   "metadata": {
    "collapsed": true
   },
   "outputs": [],
   "source": [
    "# Read in json file for the season\n",
    "filename = 'Raw_Data/season5.json'\n",
    "with open(filename, 'r') as s5:\n",
    "    data = json.load(s5)\n",
    "    \n",
    "eptitles_5 = []\n",
    "topandas_5 = []\n",
    "    \n",
    "for episode in data.keys():\n",
    "    eptitles_5.append(episode[16:-4])\n",
    "    for key, line in data[episode].items():\n",
    "        # Read json file line by line\n",
    "        if any(keyword in line.lower() for keyword in keywords):\n",
    "             topandas_5.append({\n",
    "                \"Episode\": episode[16:-4],\n",
    "                \"Key\": key,\n",
    "                \"Line\": line\n",
    "            })\n",
    "df_5 = pd.DataFrame(topandas_5)\n",
    "df_5 = df_5[[\"Episode\", \"Key\", \"Line\"]]\n",
    "# df.head(60)"
   ]
  },
  {
   "cell_type": "code",
   "execution_count": 9,
   "metadata": {
    "collapsed": true
   },
   "outputs": [],
   "source": [
    "# Read in json file for the season\n",
    "filename = 'Raw_Data/season6.json'\n",
    "with open(filename, 'r') as s6:\n",
    "    data = json.load(s6)\n",
    "    \n",
    "eptitles_6 = []\n",
    "topandas_6 = []\n",
    "    \n",
    "for episode in data.keys():\n",
    "    eptitles_6.append(episode[16:-4])\n",
    "    for key, line in data[episode].items():\n",
    "        # Read json file line by line\n",
    "        if any(keyword in line.lower() for keyword in keywords):\n",
    "             topandas_6.append({\n",
    "                \"Episode\": episode[16:-4],\n",
    "                \"Key\": key,\n",
    "                \"Line\": line\n",
    "            })\n",
    "df_6 = pd.DataFrame(topandas_6)\n",
    "df_6 = df_6[[\"Episode\", \"Key\", \"Line\"]]\n",
    "# df.head(60)"
   ]
  },
  {
   "cell_type": "code",
   "execution_count": 10,
   "metadata": {
    "collapsed": true
   },
   "outputs": [],
   "source": [
    "# Read in json file for the season\n",
    "filename = 'Raw_Data/season7.json'\n",
    "with open(filename, 'r') as s7:\n",
    "    data = json.load(s7)\n",
    "    \n",
    "eptitles_7 = []\n",
    "topandas_7 = []\n",
    "    \n",
    "for episode in data.keys():\n",
    "    eptitles_7.append(episode[16:-4])\n",
    "    for key, line in data[episode].items():\n",
    "        # Read json file line by line\n",
    "        if any(keyword in line.lower() for keyword in keywords):\n",
    "             topandas_7.append({\n",
    "                \"Episode\": episode[16:-4],\n",
    "                \"Key\": key,\n",
    "                \"Line\": line\n",
    "            })\n",
    "df_7 = pd.DataFrame(topandas_7)\n",
    "df_7 = df_7[[\"Episode\", \"Key\", \"Line\"]]"
   ]
  },
  {
   "cell_type": "code",
   "execution_count": 11,
   "metadata": {},
   "outputs": [
    {
     "data": {
      "text/plain": [
       "116"
      ]
     },
     "execution_count": 11,
     "metadata": {},
     "output_type": "execute_result"
    }
   ],
   "source": [
    "df = pd.concat([df_1,\n",
    "                df_2,\n",
    "                df_3,\n",
    "                df_4,\n",
    "                df_5,\n",
    "                df_6,\n",
    "                df_7], ignore_index = True)\n",
    "len(df)"
   ]
  },
  {
   "cell_type": "code",
   "execution_count": 13,
   "metadata": {},
   "outputs": [],
   "source": [
    "df.to_csv('Ravens.csv', sep=',', encoding='utf-8')"
   ]
  }
 ],
 "metadata": {
  "kernelspec": {
   "display_name": "Python [conda env:PythonData]",
   "language": "python",
   "name": "conda-env-PythonData-py"
  },
  "language_info": {
   "codemirror_mode": {
    "name": "ipython",
    "version": 3
   },
   "file_extension": ".py",
   "mimetype": "text/x-python",
   "name": "python",
   "nbconvert_exporter": "python",
   "pygments_lexer": "ipython3",
   "version": "3.6.3"
  }
 },
 "nbformat": 4,
 "nbformat_minor": 2
}
