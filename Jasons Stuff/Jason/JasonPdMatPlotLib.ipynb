{
 "cells": [
  {
   "cell_type": "markdown",
   "metadata": {},
   "source": [
    "##  Python Analyses Ravens and Deaths\n",
    "-  Includes the pandas code for organizing datafiles (Ravens + GOT_deaths).\n",
    "-  Plots of the number of deaths in a season and ravens (messages) sent during the HBO show."
   ]
  },
  {
   "cell_type": "code",
   "execution_count": 1,
   "metadata": {},
   "outputs": [
    {
     "data": {
      "text/html": [
       "<div>\n",
       "<style>\n",
       "    .dataframe thead tr:only-child th {\n",
       "        text-align: right;\n",
       "    }\n",
       "\n",
       "    .dataframe thead th {\n",
       "        text-align: left;\n",
       "    }\n",
       "\n",
       "    .dataframe tbody tr th {\n",
       "        vertical-align: top;\n",
       "    }\n",
       "</style>\n",
       "<table border=\"1\" class=\"dataframe\">\n",
       "  <thead>\n",
       "    <tr style=\"text-align: right;\">\n",
       "      <th></th>\n",
       "      <th>name</th>\n",
       "      <th>role</th>\n",
       "      <th>death_season</th>\n",
       "      <th>death_episode</th>\n",
       "      <th>execution</th>\n",
       "      <th>likelihoodOfReturn</th>\n",
       "      <th>likelihoodOfReturn_notes</th>\n",
       "      <th>deathFlashback</th>\n",
       "    </tr>\n",
       "  </thead>\n",
       "  <tbody>\n",
       "    <tr>\n",
       "      <th>0</th>\n",
       "      <td>Will</td>\n",
       "      <td>Ranger of the Nights Watch</td>\n",
       "      <td>1</td>\n",
       "      <td>1</td>\n",
       "      <td>Beheaded for desertion by Ned Stark</td>\n",
       "      <td>0%</td>\n",
       "      <td>NaN</td>\n",
       "      <td>NaN</td>\n",
       "    </tr>\n",
       "    <tr>\n",
       "      <th>1</th>\n",
       "      <td>Jon Arryn</td>\n",
       "      <td>Hand to the King before Ned Stark</td>\n",
       "      <td>1</td>\n",
       "      <td>1</td>\n",
       "      <td>Poisoned by Lysa Arryn and Littlefinger</td>\n",
       "      <td>0%</td>\n",
       "      <td>NaN</td>\n",
       "      <td>NaN</td>\n",
       "    </tr>\n",
       "    <tr>\n",
       "      <th>2</th>\n",
       "      <td>Jory Cassel</td>\n",
       "      <td>Captain of the guards to House Stark</td>\n",
       "      <td>1</td>\n",
       "      <td>5</td>\n",
       "      <td>Stabbed by Jaime Lannister through the eye</td>\n",
       "      <td>0%</td>\n",
       "      <td>NaN</td>\n",
       "      <td>NaN</td>\n",
       "    </tr>\n",
       "    <tr>\n",
       "      <th>3</th>\n",
       "      <td>Viserys Targaryen</td>\n",
       "      <td>Exiled head of House Targaryen and brother to ...</td>\n",
       "      <td>1</td>\n",
       "      <td>6</td>\n",
       "      <td>Khal Drogo pours molten gold on his head at Da...</td>\n",
       "      <td>0%</td>\n",
       "      <td>NaN</td>\n",
       "      <td>NaN</td>\n",
       "    </tr>\n",
       "    <tr>\n",
       "      <th>4</th>\n",
       "      <td>Benjen Stark</td>\n",
       "      <td>First Ranger of the Nights Watch, Brother of N...</td>\n",
       "      <td>1</td>\n",
       "      <td>7</td>\n",
       "      <td>Unknown</td>\n",
       "      <td>15%</td>\n",
       "      <td>He could have survived all this time or become...</td>\n",
       "      <td>NaN</td>\n",
       "    </tr>\n",
       "  </tbody>\n",
       "</table>\n",
       "</div>"
      ],
      "text/plain": [
       "                name                                               role  \\\n",
       "0               Will                         Ranger of the Nights Watch   \n",
       "1          Jon Arryn                  Hand to the King before Ned Stark   \n",
       "2        Jory Cassel               Captain of the guards to House Stark   \n",
       "3  Viserys Targaryen  Exiled head of House Targaryen and brother to ...   \n",
       "4       Benjen Stark  First Ranger of the Nights Watch, Brother of N...   \n",
       "\n",
       "   death_season  death_episode  \\\n",
       "0             1              1   \n",
       "1             1              1   \n",
       "2             1              5   \n",
       "3             1              6   \n",
       "4             1              7   \n",
       "\n",
       "                                           execution likelihoodOfReturn  \\\n",
       "0                Beheaded for desertion by Ned Stark                 0%   \n",
       "1            Poisoned by Lysa Arryn and Littlefinger                 0%   \n",
       "2         Stabbed by Jaime Lannister through the eye                 0%   \n",
       "3  Khal Drogo pours molten gold on his head at Da...                 0%   \n",
       "4                                            Unknown                15%   \n",
       "\n",
       "                            likelihoodOfReturn_notes deathFlashback  \n",
       "0                                                NaN            NaN  \n",
       "1                                                NaN            NaN  \n",
       "2                                                NaN            NaN  \n",
       "3                                                NaN            NaN  \n",
       "4  He could have survived all this time or become...            NaN  "
      ]
     },
     "execution_count": 1,
     "metadata": {},
     "output_type": "execute_result"
    }
   ],
   "source": [
    "# Importing dependencies\n",
    "import pandas as pd\n",
    "import codecs\n",
    "import csv\n",
    "import matplotlib.pyplot as plt\n",
    "\n",
    "# File names and read csv\n",
    "deaths = \"Deaths.csv\"\n",
    "ravens = \"Ravens.csv\"\n",
    "\n",
    "with codecs.open(deaths, \"r\", encoding='utf-8', errors='ignore') as ddata:\n",
    "    df_deaths = pd.read_csv(ddata)\n",
    "    \n",
    "with codecs.open(ravens, \"r\", encoding='utf-8', errors='ignore') as rdata:\n",
    "    df_ravens = pd.read_csv(rdata)\n",
    "# ravn = pd.read_csv(ravens, encoding = 'utf-8', errors = 'ignore')\n",
    "# death = pd.read_csv(deaths, encoding = 'utf-8', errors = 'ignore')\n",
    "df_ravens.head()\n",
    "df_deaths.head()"
   ]
  },
  {
   "cell_type": "code",
   "execution_count": 2,
   "metadata": {},
   "outputs": [
    {
     "name": "stdout",
     "output_type": "stream",
     "text": [
      "67\n"
     ]
    }
   ],
   "source": [
    "# Clean the df_ravens dataframe\n",
    "# removing Events: \"Delete\"\n",
    "\n",
    "to_drop = [\"Delete\"]\n",
    "df_ravens = df_ravens[~df_ravens['Event'].isin(to_drop)]\n",
    "# print(len(df_ravens))"
   ]
  },
  {
   "cell_type": "code",
   "execution_count": null,
   "metadata": {
    "collapsed": true
   },
   "outputs": [],
   "source": []
  }
 ],
 "metadata": {
  "kernelspec": {
   "display_name": "Python [conda env:PythonData]",
   "language": "python",
   "name": "conda-env-PythonData-py"
  },
  "language_info": {
   "codemirror_mode": {
    "name": "ipython",
    "version": 3
   },
   "file_extension": ".py",
   "mimetype": "text/x-python",
   "name": "python",
   "nbconvert_exporter": "python",
   "pygments_lexer": "ipython3",
   "version": "3.6.3"
  }
 },
 "nbformat": 4,
 "nbformat_minor": 2
}
